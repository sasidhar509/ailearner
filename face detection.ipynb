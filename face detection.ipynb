{
    "nbformat_minor": 1, 
    "cells": [
        {
            "source": "import pandas as pd\nimport numpy as np\nimport os\nimport cv2", 
            "cell_type": "code", 
            "metadata": {}, 
            "outputs": [], 
            "execution_count": 1
        }, 
        {
            "source": "path=r\"C:\\images\"\ncv_detect_face=r\"C:\\Users\\pc\\Desktop\\haarcascade_frontalface_default.xml\"", 
            "cell_type": "code", 
            "metadata": {}, 
            "outputs": [], 
            "execution_count": 2
        }, 
        {
            "source": "import cv2\nname=\"sasi\"\nnum_of_images=10\nweb=cv2.VideoCapture(0)\nhaar_cascade_face = cv2.CascadeClassifier(cv_detect_face)\nos.makedirs(os.path.join(path,'sasi'),exist_ok=True)\ncount=0\nwhile count<num_of_images:\n    _,im=web.read()\n    try:\n            faces=haar_cascade_face.detectMultiScale(im,1.3, 4)\n    except:\n        continue\n    gray = cv2.cvtColor(im, cv2.COLOR_BGR2GRAY)\n    for x,y,w,h in faces:\n        face = gray[y:y + h, x:x + w] \n        face_resize = cv2.resize(face, (w, h))\n        cv2.imwrite('%s/%s.png'%(os.path.join(path,'sasi'), count),face_resize)\n        if count//10==0:\n            print(count,end='')\n    count+=1\n    key = cv2.waitKey(10) \n    if key == 27: \n        break\ncv2.destroyAllWindows()\nweb.release()", 
            "cell_type": "code", 
            "metadata": {}, 
            "outputs": [], 
            "execution_count": null
        }, 
        {
            "source": "", 
            "cell_type": "code", 
            "metadata": {}, 
            "outputs": [], 
            "execution_count": 45
        }, 
        {
            "source": "", 
            "cell_type": "code", 
            "metadata": {}, 
            "outputs": [], 
            "execution_count": 46
        }, 
        {
            "source": "", 
            "cell_type": "code", 
            "metadata": {}, 
            "outputs": [], 
            "execution_count": null
        }
    ], 
    "metadata": {
        "kernelspec": {
            "display_name": "Python 3.5", 
            "name": "python3", 
            "language": "python"
        }, 
        "language_info": {
            "mimetype": "text/x-python", 
            "nbconvert_exporter": "python", 
            "version": "3.5.5", 
            "name": "python", 
            "file_extension": ".py", 
            "pygments_lexer": "ipython3", 
            "codemirror_mode": {
                "version": 3, 
                "name": "ipython"
            }
        }
    }, 
    "nbformat": 4
}